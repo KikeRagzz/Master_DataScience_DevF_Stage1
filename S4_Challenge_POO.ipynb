{
  "nbformat": 4,
  "nbformat_minor": 0,
  "metadata": {
    "colab": {
      "provenance": [],
      "include_colab_link": true
    },
    "kernelspec": {
      "name": "python3",
      "display_name": "Python 3"
    },
    "language_info": {
      "name": "python"
    }
  },
  "cells": [
    {
      "cell_type": "markdown",
      "metadata": {
        "id": "view-in-github",
        "colab_type": "text"
      },
      "source": [
        "<a href=\"https://colab.research.google.com/github/KikeRagzz/Master_DataScience_DevF_Stage1/blob/main/S4_Challenge_POO.ipynb\" target=\"_parent\"><img src=\"https://colab.research.google.com/assets/colab-badge.svg\" alt=\"Open In Colab\"/></a>"
      ]
    },
    {
      "cell_type": "markdown",
      "source": [
        "##Ejercicio 1\n",
        "Realizar un programa que conste de una clase llamada Alumno que tenga como atributos el nombre y la nota del alumno. Definir los métodos para inicializar sus atributos, imprimirlos y mostrar un mensaje con el resultado de la nota y si ha aprobado o no.\n"
      ],
      "metadata": {
        "id": "4EFGoEpOl5J9"
      }
    },
    {
      "cell_type": "code",
      "source": [
        "class Alumno:\n",
        "     def __init__(self, name, nota):\n",
        "       self.name = name\n",
        "       self.nota = nota\n",
        "       \n",
        "     def cal(self):\n",
        "       if self.nota > 7:\n",
        "         return (\"aprobado\")\n",
        "       else: \n",
        "         return(\"No aprobado\")\n",
        "x= input(\"Ingrese el nombre del alumno: \")\n",
        "y= int(input(\"ingrese la calificación: \"))       \n",
        "Alumno1 = Alumno(x, y)\n",
        "print(Alumno1.name, Alumno1.cal())"
      ],
      "metadata": {
        "id": "P9ullKnYnFfF",
        "colab": {
          "base_uri": "https://localhost:8080/"
        },
        "outputId": "11d53a2f-7dd4-430f-ea6c-505da6d45fb5"
      },
      "execution_count": 11,
      "outputs": [
        {
          "output_type": "stream",
          "name": "stdout",
          "text": [
            "Ingrese el nombre del alumno: Juan\n",
            "ingrese la calificación: 2\n",
            "Juan No aprobado\n"
          ]
        }
      ]
    },
    {
      "cell_type": "markdown",
      "source": [
        "##Ejercicio 2\n",
        "Realizar un programa que tenga una clase Persona con las siguientes características. La clase tendrá como atributos el nombre y la edad de una persona. Implementar los métodos necesarios para inicializar los atributos, mostrar los datos e indicar si la persona es mayor de edad o no.\n"
      ],
      "metadata": {
        "id": "b_bGLJVvmDb5"
      }
    },
    {
      "cell_type": "code",
      "source": [
        "class people:\n",
        "     def __init__(self, name, age):\n",
        "       self.name = name\n",
        "       self.age = age\n",
        "       \n",
        "     def edad(self):\n",
        "       if self.age >= 18:\n",
        "         return (self.name + \"es mayor de edad\")\n",
        "       else: \n",
        "         return(self.name + \" es menor de edad\")\n",
        "x= input(\"Ingrese el nombre de la persona: \")\n",
        "y= int(input(\"ingrese la edad: \"))       \n",
        "persona1 = people(x, y)\n",
        "print(persona1.edad())"
      ],
      "metadata": {
        "id": "t_Kbaj2EnF9N",
        "colab": {
          "base_uri": "https://localhost:8080/"
        },
        "outputId": "bc738e05-d247-43be-96f9-37f3f332a47f"
      },
      "execution_count": 15,
      "outputs": [
        {
          "output_type": "stream",
          "name": "stdout",
          "text": [
            "Ingrese el nombre de la persona: Rossa \n",
            "ingrese la edad: 18\n",
            "Rossa es mayor de edad\n"
          ]
        }
      ]
    },
    {
      "cell_type": "markdown",
      "source": [
        "##Ejercicio 3\n",
        "Desarrollar un programa que cargue los datos de un triángulo. Implementar una clase con los métodos para inicializar los atributos, imprimir el valor del lado con un tamaño mayor y  el tipo de triángulo que es (equilátero, isósceles o escaleno).\n"
      ],
      "metadata": {
        "id": "Esf21Be0mTBn"
      }
    },
    {
      "cell_type": "code",
      "source": [
        "class triangle:\n",
        "     def __init__(self, a, b,c):\n",
        "       self.a = a\n",
        "       self.b = b\n",
        "       self.c = c\n",
        "       \n",
        "     def triangleType(self):\n",
        "       if self.a == self.b == self.c:\n",
        "         return print(\"triangulo Equilatero\"+\" Lmax: \"+str(self.a))\n",
        "\n",
        "       elif self.a != self.b !=self.c:\n",
        "         lmax = max(self.a,self.b,self.c)\n",
        "         return print(\"escaleno\"+\" lmax: \"+str(lmax))\n",
        "       else: \n",
        "         lmax = max(self.a,self.b,self.c)\n",
        "         return print(\"Isosceles\"+\" lmax: \"+str(lmax))\n",
        "\n",
        "x, y, z= int(input(\"Ingrese lado A: \")), int(input(\"Ingrese lado B: \")), int(input(\"Ingrese lado C: \"))    \n",
        "t1 = triangle(x, y,z)\n",
        "t1.triangleType()"
      ],
      "metadata": {
        "id": "sPqi1jqCnGfD",
        "colab": {
          "base_uri": "https://localhost:8080/"
        },
        "outputId": "e8114a3b-5a84-4f79-dbb0-c835dd82ef45"
      },
      "execution_count": 21,
      "outputs": [
        {
          "output_type": "stream",
          "name": "stdout",
          "text": [
            "Ingrese lado A: 3\n",
            "Ingrese lado B: 4\n",
            "Ingrese lado C: 5\n",
            "escaleno lmax: 5\n"
          ]
        }
      ]
    },
    {
      "cell_type": "markdown",
      "source": [
        "##Ejercicio 4\n",
        "Realizar un programa en el cual se declaren dos valores enteros por teclado utilizando el método __init__. Calcular después la suma, resta, multiplicación y división. Utilizar un método para cada una e imprimir los resultados obtenidos. Llamar a la clase Calculadora."
      ],
      "metadata": {
        "id": "FuDVAwyLmXM_"
      }
    },
    {
      "cell_type": "code",
      "source": [
        "class calculadora:\n",
        "  def __init__(self, a,b):\n",
        "    self.a = int(input(\"Ingrese valor de a \"))\n",
        "    self.b = int(input(\"Ingrese valor de b \"))\n",
        "\n",
        "  def sum(self):\n",
        "      return print(self.a+self.b)\n",
        "    \n",
        "  def res(self):\n",
        "      return print(self.a-self.b)\n",
        "\n",
        "  def mul(self):\n",
        "      return print(self.a*self.b)\n",
        "  def div(self):\n",
        "      return print(self.a/self.b)\n",
        "a, b = 0,0\n",
        "calculo1= calculadora(a,b)\n",
        "calculo1.sum()\n",
        "calculo1.res()\n",
        "calculo1.mul()\n",
        "calculo1.div()"
      ],
      "metadata": {
        "id": "VnFcFidTnG-O",
        "colab": {
          "base_uri": "https://localhost:8080/"
        },
        "outputId": "96eaf463-34ad-4021-ad87-5fcde42d7d44"
      },
      "execution_count": 25,
      "outputs": [
        {
          "output_type": "stream",
          "name": "stdout",
          "text": [
            "Ingrese valor de a4\n",
            "Ingrese valor de b5\n",
            "9\n",
            "-1\n",
            "20\n",
            "0.8\n"
          ]
        }
      ]
    },
    {
      "cell_type": "markdown",
      "source": [
        "##Ejercicio 5\n",
        "Realizar una clase que administre una agenda. Se debe almacenar para cada contacto el nombre, el teléfono y el email. Además deberá mostrar un menú con las siguientes opciones\n",
        "\n",
        "\n",
        "\n",
        "*   Añadir contacto\n",
        "*   Lista de contactos\n",
        "*   Buscar contacto\n",
        "*   Editar contacto\n",
        "*   Cerrar agenda"
      ],
      "metadata": {
        "id": "NmarrIA6mdo5"
      }
    },
    {
      "cell_type": "code",
      "source": [],
      "metadata": {
        "id": "hvhudvVInHpR"
      },
      "execution_count": null,
      "outputs": []
    },
    {
      "cell_type": "markdown",
      "source": [
        "##Ejercicio 6\n",
        "En un banco tienen clientes que pueden hacer depósitos y extracciones de dinero. El banco requiere también al final del día calcular la cantidad de dinero que se ha depositado.\n",
        "\n",
        "Se deberán crear dos clases, la clase cliente y la clase banco. La clase cliente tendrá los atributos nombre y cantidad y los métodos __init__, depositar, extraer, mostrar_total.\n",
        "\n",
        "La clase banco tendrá como atributos 3 objetos de la clase cliente y los métodos __init__, operar y deposito_total."
      ],
      "metadata": {
        "id": "pIFlDlAnmyyh"
      }
    },
    {
      "cell_type": "code",
      "source": [],
      "metadata": {
        "id": "7gjXBfvCnIQJ"
      },
      "execution_count": null,
      "outputs": []
    },
    {
      "cell_type": "markdown",
      "source": [
        "##Ejercicio 7\n",
        "Desarrollar un programa que conste de una clase padre Cuenta y dos subclases PlazoFijo y CajaAhorro. Definir los atributos titular y cantidad y un método para imprimir los datos en la clase Cuenta. La clase CajaAhorro tendrá un método para heredar los datos y uno para mostrar la información.\n",
        "\n",
        "La clase PlazoFijo tendrá dos atributos propios, plazo e interés. Tendrá un método para obtener el importe del interés (cantidad*interés/100) y otro método para mostrar la información, datos del titular plazo, interés y total de interés.\n",
        "\n",
        "Crear al menos un objeto de cada subclase.\n",
        "\n"
      ],
      "metadata": {
        "id": "B7ZTRLdum2NG"
      }
    },
    {
      "cell_type": "code",
      "source": [],
      "metadata": {
        "id": "F2wvhFNYnI2Z"
      },
      "execution_count": null,
      "outputs": []
    }
  ]
}