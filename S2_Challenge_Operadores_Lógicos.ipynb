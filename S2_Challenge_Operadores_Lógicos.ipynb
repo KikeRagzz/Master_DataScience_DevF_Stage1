{
  "nbformat": 4,
  "nbformat_minor": 0,
  "metadata": {
    "colab": {
      "provenance": [],
      "collapsed_sections": [],
      "include_colab_link": true
    },
    "kernelspec": {
      "name": "python3",
      "display_name": "Python 3"
    },
    "language_info": {
      "name": "python"
    }
  },
  "cells": [
    {
      "cell_type": "markdown",
      "metadata": {
        "id": "view-in-github",
        "colab_type": "text"
      },
      "source": [
        "<a href=\"https://colab.research.google.com/github/KikeRagzz/Master_DataScience_DevF_Stage1/blob/main/S2_Challenge_Operadores_L%C3%B3gicos.ipynb\" target=\"_parent\"><img src=\"https://colab.research.google.com/assets/colab-badge.svg\" alt=\"Open In Colab\"/></a>"
      ]
    },
    {
      "cell_type": "markdown",
      "metadata": {
        "id": "VEn_SLPyboN0"
      },
      "source": [
        "#Los operadores lógicos \n",
        "\n"
      ]
    },
    {
      "cell_type": "markdown",
      "metadata": {
        "id": "P1vqdpRJQMv6"
      },
      "source": [
        "Recordemos los operadores de comparación\n",
        "\n",
        "![img1](https://facialix.com/images/cond.png)"
      ]
    },
    {
      "cell_type": "markdown",
      "metadata": {
        "id": "jXKTPrImShCj"
      },
      "source": [
        "y veamos algunos ejemplos de los operadores logicos en acción\n",
        "\n",
        "![img2](https://facialix.com/images/logicos.png)"
      ]
    },
    {
      "cell_type": "markdown",
      "metadata": {
        "id": "Ltf91jwLSB_d"
      },
      "source": [
        "**En este ejercicio debes mostrar el valor que se obtiene de las sentencias al ejecutarlas en codigo y explicarlas:**"
      ]
    },
    {
      "cell_type": "markdown",
      "metadata": {
        "id": "8CXLWwF2TS5D"
      },
      "source": [
        "1) **not true**"
      ]
    },
    {
      "cell_type": "code",
      "metadata": {
        "id": "dn0D2e0wB4mv",
        "colab": {
          "base_uri": "https://localhost:8080/"
        },
        "outputId": "3ae8880c-12fc-4af4-c013-533130b7de19"
      },
      "source": [
        "#Escribe el codigo aquí\n",
        "not True\n",
        "\n"
      ],
      "execution_count": 2,
      "outputs": [
        {
          "output_type": "execute_result",
          "data": {
            "text/plain": [
              "False"
            ]
          },
          "metadata": {},
          "execution_count": 2
        }
      ]
    },
    {
      "cell_type": "markdown",
      "metadata": {
        "id": "LIIjBScjETLc"
      },
      "source": [
        "Negación del verdadero\n",
        "🖍 ..."
      ]
    },
    {
      "cell_type": "markdown",
      "metadata": {
        "id": "JGlH_p9ll3yO"
      },
      "source": [
        "2) **not (1+2 != 3)**"
      ]
    },
    {
      "cell_type": "code",
      "metadata": {
        "id": "_hobkTpAUEB4",
        "colab": {
          "base_uri": "https://localhost:8080/"
        },
        "outputId": "ed113918-d6e6-45a9-bbe6-33e871367e10"
      },
      "source": [
        "#Escribe el codigo aquí\n",
        "not (1+2 != 3)\n",
        "\n"
      ],
      "execution_count": 3,
      "outputs": [
        {
          "output_type": "execute_result",
          "data": {
            "text/plain": [
              "True"
            ]
          },
          "metadata": {},
          "execution_count": 3
        }
      ]
    },
    {
      "cell_type": "markdown",
      "metadata": {
        "id": "0Gw_3yeSFKRf"
      },
      "source": [
        "Negación de False, quedaría not (False) = True\n",
        "🖍 ..."
      ]
    },
    {
      "cell_type": "markdown",
      "metadata": {
        "id": "nTis6gKvoNkm"
      },
      "source": [
        "3) **x = (len(\"jugar\") > 5) and (len(\"jugar\") < 10)**"
      ]
    },
    {
      "cell_type": "code",
      "metadata": {
        "id": "I3I7VbTdoin4",
        "colab": {
          "base_uri": "https://localhost:8080/"
        },
        "outputId": "0b9875a6-a135-4f89-ec2e-a8cdc2ee8f3d"
      },
      "source": [
        "#Escribe el codigo aquí\n",
        "x = (len(\"jugar\") > 5) and (len(\"jugar\") < 10)\n",
        "x"
      ],
      "execution_count": 6,
      "outputs": [
        {
          "output_type": "execute_result",
          "data": {
            "text/plain": [
              "False"
            ]
          },
          "metadata": {},
          "execution_count": 6
        }
      ]
    },
    {
      "cell_type": "markdown",
      "metadata": {
        "id": "Zml_nA0vFPqR"
      },
      "source": [
        "x = False and True -> False (0 and 1  = 0)\n",
        "\n",
        "🖍 ..."
      ]
    },
    {
      "cell_type": "markdown",
      "metadata": {
        "id": "HOwNy5VOorNy"
      },
      "source": [
        "4) **\"alto\"[2] == \"t\" and x**"
      ]
    },
    {
      "cell_type": "code",
      "metadata": {
        "id": "mZx6iGmeoqEA",
        "colab": {
          "base_uri": "https://localhost:8080/"
        },
        "outputId": "87d01960-9278-4f32-d6c9-ebad2317f775"
      },
      "source": [
        "#Escribe el codigo aquí\n",
        "\"alto\"[2] == \"t\" and x\n",
        "\n"
      ],
      "execution_count": 9,
      "outputs": [
        {
          "output_type": "execute_result",
          "data": {
            "text/plain": [
              "False"
            ]
          },
          "metadata": {},
          "execution_count": 9
        }
      ]
    },
    {
      "cell_type": "markdown",
      "metadata": {
        "id": "ze-L4sA0FZv1"
      },
      "source": [
        "\"alto\"[2] == \"t\" -> True, x == False\n",
        "True and False = False\n",
        "\n",
        "🖍 ..."
      ]
    },
    {
      "cell_type": "markdown",
      "metadata": {
        "id": "cCqs1tjHNpv4"
      },
      "source": [
        "5) **842913%10 != 3 and len(\"café\") == 3**"
      ]
    },
    {
      "cell_type": "code",
      "metadata": {
        "id": "70-kC-f9oqAe",
        "colab": {
          "base_uri": "https://localhost:8080/"
        },
        "outputId": "a6e3246d-9e27-42bb-a523-06199422a76a"
      },
      "source": [
        "#Escribe el codigo aquí\n",
        "842913%10 != 3 and len(\"café\") == 3\n"
      ],
      "execution_count": 14,
      "outputs": [
        {
          "output_type": "execute_result",
          "data": {
            "text/plain": [
              "False"
            ]
          },
          "metadata": {},
          "execution_count": 14
        }
      ]
    },
    {
      "cell_type": "markdown",
      "metadata": {
        "id": "TpDnFFjcGdkj"
      },
      "source": [
        "len(\"café\") == 3 -> False,  len(\"café\") == 3 -> False\n",
        "\n",
        "False*False = False\n",
        "\n",
        "🖍 ..."
      ]
    },
    {
      "cell_type": "markdown",
      "metadata": {
        "id": "ato2HirpOAy9"
      },
      "source": [
        "6) **0!=0 or \"a\" < \"y\"**"
      ]
    },
    {
      "cell_type": "code",
      "metadata": {
        "id": "r4NtOzm3op94",
        "colab": {
          "base_uri": "https://localhost:8080/"
        },
        "outputId": "56e82d1a-748f-464a-a6b4-26ea48ee9ef8"
      },
      "source": [
        "#Escribe el codigo aquí\n",
        "0!=0 or \"a\" < \"y\"\n",
        "\n"
      ],
      "execution_count": 15,
      "outputs": [
        {
          "output_type": "execute_result",
          "data": {
            "text/plain": [
              "True"
            ]
          },
          "metadata": {},
          "execution_count": 15
        }
      ]
    },
    {
      "cell_type": "markdown",
      "metadata": {
        "id": "Roy4PanwGfxi"
      },
      "source": [
        "0!=0 = False -> 0\n",
        "\"a\" < \"y\" = True -> 1\n",
        "\n",
        "0 + 1 = 1 -> true\n",
        "\n",
        "\n",
        "🖍 ..."
      ]
    },
    {
      "cell_type": "markdown",
      "metadata": {
        "id": "5W25SYZeORtE"
      },
      "source": [
        "7) **True or int(\"50\") >= 50**"
      ]
    },
    {
      "cell_type": "code",
      "metadata": {
        "id": "mTpYdCzFop7s",
        "colab": {
          "base_uri": "https://localhost:8080/"
        },
        "outputId": "49f3a5a4-583d-46d8-d748-f1dc74833613"
      },
      "source": [
        "#Escribe el codigo aquí\n",
        "True or int(\"50\") >= 50\n"
      ],
      "execution_count": 16,
      "outputs": [
        {
          "output_type": "execute_result",
          "data": {
            "text/plain": [
              "True"
            ]
          },
          "metadata": {},
          "execution_count": 16
        }
      ]
    },
    {
      "cell_type": "markdown",
      "metadata": {
        "id": "hMZpEBHCGkqJ"
      },
      "source": [
        "True = 1\n",
        "int(\"50\") >= 50 = True -> 1\n",
        "\n",
        "1+1 = 1 -> True\n",
        "🖍 ..."
      ]
    },
    {
      "cell_type": "markdown",
      "metadata": {
        "id": "Dp4beMsqOhOh"
      },
      "source": [
        "8) **edad = 20**\n",
        "\n",
        "**not(x) or edad%2==0**"
      ]
    },
    {
      "cell_type": "code",
      "metadata": {
        "id": "bTco9wG8op5G",
        "colab": {
          "base_uri": "https://localhost:8080/"
        },
        "outputId": "2c931212-86fd-4ea1-9193-2d8ac612fd43"
      },
      "source": [
        "#Escribe el codigo aquí\n",
        "edad = 20\n",
        "not(x) or edad%2==0\n",
        "\n"
      ],
      "execution_count": 17,
      "outputs": [
        {
          "output_type": "execute_result",
          "data": {
            "text/plain": [
              "True"
            ]
          },
          "metadata": {},
          "execution_count": 17
        }
      ]
    },
    {
      "cell_type": "markdown",
      "metadata": {
        "id": "AyH5LeZ4HgaZ"
      },
      "source": [
        "not(x) = not(False) not(0) -> 1\n",
        "\n",
        "edad%2==0 = True ->1\n",
        "\n",
        "1+1 = 1 -> True\n",
        "\n",
        "🖍 ..."
      ]
    },
    {
      "cell_type": "markdown",
      "metadata": {
        "id": "QXou2mt7Oy4r"
      },
      "source": [
        "9) **es_cliente = False**\n",
        "\n",
        "**not (es_cliente and not(edad < 18))**"
      ]
    },
    {
      "cell_type": "code",
      "metadata": {
        "id": "-p3G0qH3op2X",
        "colab": {
          "base_uri": "https://localhost:8080/"
        },
        "outputId": "bcb9257a-39b4-4f2a-91c7-b92f1f6bf98a"
      },
      "source": [
        "#Escribe el codigo aquí\n",
        "es_cliente = False\n",
        "\n",
        "not (es_cliente and not(edad < 18))\n",
        "\n"
      ],
      "execution_count": 19,
      "outputs": [
        {
          "output_type": "execute_result",
          "data": {
            "text/plain": [
              "True"
            ]
          },
          "metadata": {},
          "execution_count": 19
        }
      ]
    },
    {
      "cell_type": "markdown",
      "metadata": {
        "id": "hBpjtW7iHhW8"
      },
      "source": [
        "edad < 18 = False, not(false) = True\n",
        "\n",
        "es_cliente and True -> False and True = False\n",
        "\n",
        "not(False) = True\n",
        "🖍 ..."
      ]
    },
    {
      "cell_type": "markdown",
      "metadata": {
        "id": "_jKHKuBkbxhX"
      },
      "source": [
        "###Recursos extra para estudiar y ejercios\n"
      ]
    },
    {
      "cell_type": "markdown",
      "metadata": {
        "id": "86XEDrCbdBCr"
      },
      "source": [
        "- Video corto de Coursera: [Tablas de verdad y álgebra booleana](https://www.coursera.org/lecture/programacion-python/tablas-de-verdad-y-algebra-booleana-JJs0E)\n",
        "- Articulo corto de [Tablas de la verdad](https://www.ecured.cu/Tablas_de_la_verdad)\n",
        "- Ejercicios practicos en portal de [Tablas de Verdad](https://www.edu.xunta.gal/espazoAbalar/sites/espazoAbalar/files/datos/1493724904/contido/tablas_de_verdad.html)\n",
        "- Guía de [Ejercicios de Lógica](https://www.fing.edu.uy/tecnoinf/mvd/cursos/mdl1/material/pra/buceo_noct/mdl1-pr-logica.pdf)"
      ]
    }
  ]
}